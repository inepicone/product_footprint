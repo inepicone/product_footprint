{
  "nbformat": 4,
  "nbformat_minor": 0,
  "metadata": {
    "colab": {
      "provenance": [],
      "toc_visible": true,
      "authorship_tag": "ABX9TyOt2aXLpZIuvhqECXEfl+fH",
      "include_colab_link": true
    },
    "kernelspec": {
      "name": "python3",
      "display_name": "Python 3"
    },
    "language_info": {
      "name": "python"
    }
  },
  "cells": [
    {
      "cell_type": "markdown",
      "metadata": {
        "id": "view-in-github",
        "colab_type": "text"
      },
      "source": [
        "<a href=\"https://colab.research.google.com/github/inepicone/product_footprint/blob/main/mvp_v1.ipynb\" target=\"_parent\"><img src=\"https://colab.research.google.com/assets/colab-badge.svg\" alt=\"Open In Colab\"/></a>"
      ]
    },
    {
      "cell_type": "markdown",
      "source": [
        "✅ Simula el escaneo de un producto al azar desde Open Food Facts.\n",
        "\n",
        "✅ Pide la ubicación del usuario manualmente (puede ser una ciudad o coordenadas).\n",
        "\n",
        "✅ Obtiene la ubicación del país de origen del producto.\n",
        "\n",
        "✅ Calcula la distancia entre el usuario y el origen del producto.\n",
        "\n",
        "✅ Calcula el consumo estimado de nafta en el transporte.\n",
        "\n",
        "✅ Devuelve un ticket ecológico con los datos.\n",
        "\n"
      ],
      "metadata": {
        "id": "T6mYTbJV53Gb"
      }
    },
    {
      "cell_type": "code",
      "execution_count": null,
      "metadata": {
        "colab": {
          "base_uri": "https://localhost:8080/"
        },
        "id": "rfkuQxCsyo25",
        "outputId": "1b915293-22fd-473c-e1b3-d8fee07c31d0"
      },
      "outputs": [
        {
          "output_type": "stream",
          "name": "stdout",
          "text": [
            "Requirement already satisfied: geopy in /usr/local/lib/python3.11/dist-packages (2.4.1)\n",
            "Requirement already satisfied: requests in /usr/local/lib/python3.11/dist-packages (2.32.3)\n",
            "Requirement already satisfied: geographiclib<3,>=1.52 in /usr/local/lib/python3.11/dist-packages (from geopy) (2.0)\n",
            "Requirement already satisfied: charset-normalizer<4,>=2 in /usr/local/lib/python3.11/dist-packages (from requests) (3.4.1)\n",
            "Requirement already satisfied: idna<4,>=2.5 in /usr/local/lib/python3.11/dist-packages (from requests) (3.10)\n",
            "Requirement already satisfied: urllib3<3,>=1.21.1 in /usr/local/lib/python3.11/dist-packages (from requests) (2.3.0)\n",
            "Requirement already satisfied: certifi>=2017.4.17 in /usr/local/lib/python3.11/dist-packages (from requests) (2025.1.31)\n"
          ]
        }
      ],
      "source": [
        "!pip install geopy requests\n",
        "\n"
      ]
    },
    {
      "cell_type": "code",
      "source": [
        "import requests\n",
        "import random\n",
        "from geopy.geocoders import Nominatim\n",
        "from geopy.distance import geodesic\n"
      ],
      "metadata": {
        "id": "pmEoAJRkyyEO"
      },
      "execution_count": null,
      "outputs": []
    },
    {
      "cell_type": "code",
      "source": [
        "\n",
        "# Función para obtener un producto al azar desde Open Food Facts\n",
        "def obtener_producto():\n",
        "    url = \"https://world.openfoodfacts.org/api/v0/product/737628064502.json\"  # Cambia el código de barras si quieres otro\n",
        "    response = requests.get(url)\n",
        "    data = response.json()\n",
        "\n",
        "    if \"product\" in data:\n",
        "        producto = data[\"product\"]\n",
        "        nombre = producto.get(\"product_name\", \"Desconocido\")\n",
        "        pais_origen = producto.get(\"origins\", \"Desconocido\")\n",
        "        return nombre, pais_origen\n",
        "    else:\n",
        "        return None, None\n",
        "\n",
        "# Función para obtener coordenadas de una ciudad\n",
        "def obtener_coordenadas(ubicacion):\n",
        "    geolocator = Nominatim(user_agent=\"my-geocoding-app\")  # Replace with your descriptive app name\n",
        "\n",
        "    # Implement retry mechanism\n",
        "    for i in range(3):  # Try 3 times\n",
        "        try:\n",
        "            location = geolocator.geocode(ubicacion)\n",
        "            if location:\n",
        "                return (location.latitude, location.longitude)\n",
        "            else:\n",
        "                return None\n",
        "        except geopy.exc.GeocoderServiceError as e:\n",
        "            if e.code == 403:  # If rate limited (HTTP 403), wait and retry\n",
        "                print(f\"Rate limited, retrying in {2**i} seconds...\")\n",
        "                sleep(2**i)  # Exponential backoff\n",
        "            else:\n",
        "                raise  # Re-raise other errors\n",
        "\n",
        "    return None  # Return None if all retries fail\n",
        "# Función para calcular la distancia y consumo de combustible\n",
        "def calcular_impacto(ubicacion_usuario, ubicacion_origen):\n",
        "    coords_usuario = obtener_coordenadas(ubicacion_usuario)\n",
        "    coords_origen = obtener_coordenadas(ubicacion_origen)\n",
        "\n",
        "    if coords_usuario and coords_origen:\n",
        "        distancia_km = geodesic(coords_usuario, coords_origen).kilometers\n",
        "        consumo_nafta_litros = distancia_km / 3  # Suponiendo 3 km por litro\n",
        "        return distancia_km, consumo_nafta_litros\n",
        "    else:\n",
        "        return None, None\n",
        "\n"
      ],
      "metadata": {
        "id": "lnFbNWDyy4Rj"
      },
      "execution_count": null,
      "outputs": []
    },
    {
      "cell_type": "markdown",
      "source": [
        "# Nueva sección"
      ],
      "metadata": {
        "id": "XV1KcJQK6j9z"
      }
    },
    {
      "cell_type": "code",
      "source": [
        "# Simulación\n",
        "producto, pais_origen = obtener_producto()\n",
        "ubicacion_usuario = input(\"Ingresa tu ubicación (Ej: Madrid, España): \")\n",
        "\n",
        "if producto and pais_origen:\n",
        "    distancia, nafta = calcular_impacto(ubicacion_usuario, pais_origen)\n",
        "    if distancia and nafta:\n",
        "        print(\"\\n--- Ticket Ecológico ---\")\n",
        "        print(f\"Producto: {producto}\")\n",
        "        print(f\"Origen: {pais_origen}\")\n",
        "        print(f\"Distancia recorrida: {distancia:.2f} km\")\n",
        "        print(f\"Consumo estimado de nafta: {nafta:.2f} litros\")\n",
        "    else:\n",
        "        print(\"No se pudo calcular la distancia.\")\n",
        "else:\n",
        "    print(\"No se encontró el producto.\")\n"
      ],
      "metadata": {
        "colab": {
          "base_uri": "https://localhost:8080/"
        },
        "id": "H994Y_1uy91M",
        "outputId": "23beacf1-4311-4353-dae7-2e2da64e1eb0"
      },
      "execution_count": null,
      "outputs": [
        {
          "output_type": "stream",
          "name": "stdout",
          "text": [
            "Ingresa tu ubicación (Ej: Madrid, España): Espoo, Finland\n",
            "\n",
            "--- Ticket Ecológico ---\n",
            "Producto: Thai peanut noodle kit includes stir-fry rice noodles & thai peanut seasoning\n",
            "Origen: Thailand\n",
            "Distancia recorrida: 7816.65 km\n",
            "Consumo estimado de nafta: 2605.55 litros\n"
          ]
        }
      ]
    }
  ]
}