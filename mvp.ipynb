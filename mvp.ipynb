!pip install geopy requests

import requests
import random
from geopy.geocoders import Nominatim
from geopy.distance import geodesic

# Función para obtener un producto al azar desde Open Food Facts
def obtener_producto():
    url = "https://world.openfoodfacts.org/api/v0/product/737628064502.json"  # Cambia el código de barras si quieres otro
    response = requests.get(url)
    data = response.json()
    
    if "product" in data:
        producto = data["product"]
        nombre = producto.get("product_name", "Desconocido")
        pais_origen = producto.get("origins", "Desconocido")
        return nombre, pais_origen
    else:
        return None, None

# Función para obtener coordenadas de una ciudad
def obtener_coordenadas(ubicacion):
    geolocator = Nominatim(user_agent="geoapiExercises")
    location = geolocator.geocode(ubicacion)
    if location:
        return (location.latitude, location.longitude)
    else:
        return None

# Función para calcular la distancia y consumo de combustible
def calcular_impacto(ubicacion_usuario, ubicacion_origen):
    coords_usuario = obtener_coordenadas(ubicacion_usuario)
    coords_origen = obtener_coordenadas(ubicacion_origen)

    if coords_usuario and coords_origen:
        distancia_km = geodesic(coords_usuario, coords_origen).kilometers
        consumo_nafta_litros = distancia_km / 3  # Suponiendo 3 km por litro
        return distancia_km, consumo_nafta_litros
    else:
        return None, None

# Simulación
producto, pais_origen = obtener_producto()
ubicacion_usuario = input("Ingresa tu ubicación (Ej: Madrid, España): ")

if producto and pais_origen:
    distancia, nafta = calcular_impacto(ubicacion_usuario, pais_origen)
    if distancia and nafta:
        print("\n--- Ticket Ecológico ---")
        print(f"Producto: {producto}")
        print(f"Origen: {pais_origen}")
        print(f"Distancia recorrida: {distancia:.2f} km")
        print(f"Consumo estimado de nafta: {nafta:.2f} litros")
    else:
        print("No se pudo calcular la distancia.")
else:
    print("No se encontró el producto.")
